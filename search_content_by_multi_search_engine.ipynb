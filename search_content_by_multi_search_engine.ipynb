{
 "cells": [
  {
   "cell_type": "markdown",
   "id": "4bcf023f-202b-4799-9e21-d670640fbd87",
   "metadata": {},
   "source": [
    "# 快速打开多个搜索引擎搜索同一关键词"
   ]
  },
  {
   "cell_type": "markdown",
   "id": "48fe79c0-8645-48ca-8220-1eae111790f6",
   "metadata": {},
   "source": [
    "## 环璄变量"
   ]
  },
  {
   "attachments": {
    "34e9b2f0-3497-4187-9320-23fdff83f457.png": {
     "image/png": "[encoded data removed]"
    }
   },
   "cell_type": "markdown",
   "id": "38b45b57-5db0-482b-a39d-b9e357ea810a",
   "metadata": {},
   "source": [
    "将 bat 脚本(s.bat)或打包好的 exe (s.exe)放到指定环璄变量的目录下。\n",
    "\n",
    "使用 google, duckduckgo, bing, baidu 搜索 “a b c”：\n",
    "\n",
    "![image.png](attachment:34e9b2f0-3497-4187-9320-23fdff83f457.png)\n"
   ]
  },
  {
   "cell_type": "markdown",
   "id": "acf43559-c569-4e83-8062-cb317806a108",
   "metadata": {},
   "source": [
    "## bat 脚本"
   ]
  },
  {
   "cell_type": "markdown",
   "id": "7db19fe7-652d-4197-8d78-9a5360331b55",
   "metadata": {},
   "source": [
    "`s.bat`\n",
    "\n",
    "```shell\n",
    "REM open chrome in new window\n",
    "call \"cmd /c start chrome --args --new-window https://google.com/search?q=\"%*\" https://duckduckgo.com/?q=\"%*\" https://bing.com/search?q=\"%*\" https://www.baidu.com/s?wd=\"%*\" \"\n",
    "\n",
    "ping -n 10 127.0.0.1 1>nul 2>nul\n",
    "```"
   ]
  },
  {
   "cell_type": "markdown",
   "id": "14ea0f36-3f0a-4acf-a64c-ca02e7383965",
   "metadata": {},
   "source": [
    "## python 脚本"
   ]
  },
  {
   "cell_type": "markdown",
   "id": "bf5a8334-0e1f-41c7-baac-285e9876b0ec",
   "metadata": {},
   "source": [
    "file: `s.py`\n",
    "\n",
    "```python\n",
    "#!/usr/bin/python3.9\n",
    "from os import popen\n",
    "from sys import argv\n",
    "\n",
    "args = argv[1:]   # 参数是以空格分隔的\n",
    "content = '%20'.join(args)  # 搜索关键词，合为一个字符串时，以空格分隔\n",
    "\n",
    "chrome = r'\"C:\\Program Files\\Google\\Chrome\\Application\\chrome.exe\"'\n",
    "\n",
    "popen(f'{chrome} --args --new-window \\\n",
    "        \"https://google.com/search?q={content}\" \\\n",
    "        \"https://duckduckgo.com/?q={content}\" \\\n",
    "        \"https://bing.com/search?q={content}\" \\\n",
    "        \"https://www.baidu.com/s?wd={content}\"')\n",
    "```\n"
   ]
  },
  {
   "cell_type": "markdown",
   "id": "c58c4c3e-5f69-4e4a-b90b-6a6286e0d0ea",
   "metadata": {},
   "source": [
    "使用 pyinstaller 打包：\n",
    "\n",
    "```shell\n",
    "# 打包为单个 exe，s.py 会生成 s.exe 到 dist 目录下\n",
    "pyinstaller -F s.py\n",
    "```\n"
   ]
  },
  {
   "cell_type": "markdown",
   "id": "81427f6e-269d-4478-a162-71835f184d60",
   "metadata": {},
   "source": [
    "## 清空 run 历史记录"
   ]
  },
  {
   "cell_type": "markdown",
   "id": "a116761c-8bb7-4b64-b572-a10fc3a1a45e",
   "metadata": {},
   "source": [
    "搜索多了，run 记录就非常长。\n",
    "\n",
    "清空 run 历史记录的脚本：\n",
    "\n",
    "file: `clear.py`\n",
    "\n",
    "```python\n",
    "from winreg import *\n",
    "\n",
    "# 1. 连接注册表根键\n",
    "regRoot = ConnectRegistry(None, HKEY_CURRENT_USER)\n",
    "\n",
    "subDir = r'Software\\Microsoft\\Windows\\CurrentVersion\\Explorer\\RunMRU'\n",
    "# 2. 获取指定目录下所有键的控制\n",
    "keyHandle = OpenKey(regRoot, subDir, access=KEY_ALL_ACCESS)\n",
    "\n",
    "# 3. 存放所有的键名\n",
    "lis = []\n",
    "try:\n",
    "    count = 0\n",
    "    while True:\n",
    "        name, value, _type = EnumValue(keyHandle, count)\n",
    "        print(name, value, _type)\n",
    "        lis.append(name)\n",
    "\n",
    "        count += 1\n",
    "except Exception as err:\n",
    "    print(err)\n",
    "\n",
    "# 4. 删除键\n",
    "for k in lis: DeleteValue(keyHandle, k)\n",
    "\n",
    "# 5. 关闭\n",
    "CloseKey(keyHandle)\n",
    "CloseKey(regRoot)\n",
    "```\n",
    "\n",
    "同样的，将其打包为 exe 放到指定的环境变量目录下，就可以快速清理了。"
   ]
  }
 ],
 "metadata": {
  "kernelspec": {
   "display_name": "Python 3 (ipykernel)",
   "language": "python",
   "name": "python3"
  },
  "language_info": {
   "codemirror_mode": {
    "name": "ipython",
    "version": 3
   },
   "file_extension": ".py",
   "mimetype": "text/x-python",
   "name": "python",
   "nbconvert_exporter": "python",
   "pygments_lexer": "ipython3",
   "version": "3.9.7"
  }
 },
 "nbformat": 4,
 "nbformat_minor": 5
}
